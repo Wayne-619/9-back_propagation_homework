{
  "nbformat": 4,
  "nbformat_minor": 0,
  "metadata": {
    "colab": {
      "provenance": [],
      "collapsed_sections": []
    },
    "kernelspec": {
      "name": "python3",
      "display_name": "Python 3"
    },
    "language_info": {
      "name": "python"
    }
  },
  "cells": [
    {
      "cell_type": "code",
      "source": [
        "from math import log, e, pow, exp"
      ],
      "metadata": {
        "id": "YS1AfGQ8NTpr"
      },
      "execution_count": 1,
      "outputs": []
    },
    {
      "cell_type": "code",
      "source": [
        "import math\n",
        "\n",
        "def sigmoid(x):\n",
        "\n",
        "    if x >= 0:\n",
        "        z = exp(-x)\n",
        "        sig = 1 / (1 + z)\n",
        "        return sig\n",
        "    else:\n",
        "        z = exp(x)\n",
        "        sig = z / (1 + z)\n",
        "        return sig"
      ],
      "metadata": {
        "id": "X0AOqfyFRPjw"
      },
      "execution_count": 2,
      "outputs": []
    },
    {
      "cell_type": "code",
      "source": [
        "W_14 = 0.2\n",
        "W_15 = -0.3\n",
        "W_24 = 0.4\n",
        "W_25 = 0.1\n",
        "W_34 = -0.5\n",
        "W_35 = 0.2\n",
        "W_46 = -0.3\n",
        "W_56 = -0.2\n",
        "theta_4 = -0.4\n",
        "theta_5 = 0.2\n",
        "theta_6 = 0.1"
      ],
      "metadata": {
        "id": "P56C6gU5ZSnb"
      },
      "execution_count": 3,
      "outputs": []
    },
    {
      "cell_type": "code",
      "execution_count": 4,
      "metadata": {
        "colab": {
          "base_uri": "https://localhost:8080/"
        },
        "id": "2EPuzsJxKuLT",
        "outputId": "636ba008-12fc-4bf7-eb7a-9b47f980d6de"
      },
      "outputs": [
        {
          "output_type": "execute_result",
          "data": {
            "text/plain": [
              "-0.7"
            ]
          },
          "metadata": {},
          "execution_count": 4
        }
      ],
      "source": [
        "Bias_4 = (1) * (W_14) + (0) * (W_24) + (1) * (W_34) + theta_4\n",
        "Bias_4"
      ]
    },
    {
      "cell_type": "code",
      "source": [
        "Bias_4_AF = sigmoid(Bias_4)\n",
        "Bias_4_AF"
      ],
      "metadata": {
        "colab": {
          "base_uri": "https://localhost:8080/"
        },
        "id": "lJJ3LR1gRYoL",
        "outputId": "2187356b-516f-4eb4-934b-3a520925f307"
      },
      "execution_count": 5,
      "outputs": [
        {
          "output_type": "execute_result",
          "data": {
            "text/plain": [
              "0.33181222783183395"
            ]
          },
          "metadata": {},
          "execution_count": 5
        }
      ]
    },
    {
      "cell_type": "code",
      "source": [
        "Bias_5 = (1) * (W_15) + (0) * (W_25) + (1) * (W_35) + theta_5\n",
        "Bias_5"
      ],
      "metadata": {
        "colab": {
          "base_uri": "https://localhost:8080/"
        },
        "id": "MkQw7RnWLqWM",
        "outputId": "e43b1d6d-6b20-41b9-975c-15fd7318377f"
      },
      "execution_count": 6,
      "outputs": [
        {
          "output_type": "execute_result",
          "data": {
            "text/plain": [
              "0.10000000000000003"
            ]
          },
          "metadata": {},
          "execution_count": 6
        }
      ]
    },
    {
      "cell_type": "code",
      "source": [
        "Bias_5_AF = sigmoid(Bias_5)\n",
        "Bias_5_AF"
      ],
      "metadata": {
        "colab": {
          "base_uri": "https://localhost:8080/"
        },
        "id": "EDHInsVaR3qk",
        "outputId": "9785a332-1409-448d-a95c-107d6c298223"
      },
      "execution_count": 7,
      "outputs": [
        {
          "output_type": "execute_result",
          "data": {
            "text/plain": [
              "0.52497918747894"
            ]
          },
          "metadata": {},
          "execution_count": 7
        }
      ]
    },
    {
      "cell_type": "code",
      "source": [
        "Bias_6 = (Bias_4_AF) * (W_46) + (Bias_5_AF) * (W_56) + theta_6\n",
        "Bias_6"
      ],
      "metadata": {
        "colab": {
          "base_uri": "https://localhost:8080/"
        },
        "id": "bO6HMDY0ShC7",
        "outputId": "3e2314ac-8fb9-4e7d-b716-d6e4f7d6eeea"
      },
      "execution_count": 8,
      "outputs": [
        {
          "output_type": "execute_result",
          "data": {
            "text/plain": [
              "-0.1045395058453382"
            ]
          },
          "metadata": {},
          "execution_count": 8
        }
      ]
    },
    {
      "cell_type": "code",
      "source": [
        "Bias_6_AF = sigmoid(Bias_6)\n",
        "Bias_6_AF"
      ],
      "metadata": {
        "colab": {
          "base_uri": "https://localhost:8080/"
        },
        "id": "5nFvcMlySo3z",
        "outputId": "69c1034d-8d68-41cf-8b67-9e981d5cd2b2"
      },
      "execution_count": 9,
      "outputs": [
        {
          "output_type": "execute_result",
          "data": {
            "text/plain": [
              "0.47388889882398544"
            ]
          },
          "metadata": {},
          "execution_count": 9
        }
      ]
    },
    {
      "cell_type": "code",
      "source": [
        "Error_Bias_6 = (Bias_6_AF) * (1 - Bias_6_AF) * (1 - Bias_6_AF)\n",
        "Error_Bias_6"
      ],
      "metadata": {
        "colab": {
          "base_uri": "https://localhost:8080/"
        },
        "id": "J8Do_NTsTgeO",
        "outputId": "b65ddf1e-08d5-4842-fd82-1bbd31e08885"
      },
      "execution_count": 14,
      "outputs": [
        {
          "output_type": "execute_result",
          "data": {
            "text/plain": [
              "0.1311690782143445"
            ]
          },
          "metadata": {},
          "execution_count": 14
        }
      ]
    },
    {
      "cell_type": "code",
      "source": [
        "Error_Bias_5 = (Bias_5_AF)*(1-Bias_5_AF)*(Error_Bias_6)*(-0.2)\n",
        "Error_Bias_5"
      ],
      "metadata": {
        "colab": {
          "base_uri": "https://localhost:8080/"
        },
        "id": "9xyasIAcT91d",
        "outputId": "a4911869-338a-48b7-837d-eb1869c9108a"
      },
      "execution_count": 25,
      "outputs": [
        {
          "output_type": "execute_result",
          "data": {
            "text/plain": [
              "-0.006542085064168994"
            ]
          },
          "metadata": {},
          "execution_count": 25
        }
      ]
    },
    {
      "cell_type": "code",
      "source": [
        "Error_Bias_4 = (Bias_4_AF)*(1-Bias_4_AF)*(Error_Bias_6)*(-0.3)\n",
        "Error_Bias_4"
      ],
      "metadata": {
        "colab": {
          "base_uri": "https://localhost:8080/"
        },
        "id": "9BomeB_UXRPs",
        "outputId": "fd3b1fe2-d65f-43cf-deee-b56a95aff803"
      },
      "execution_count": 12,
      "outputs": [
        {
          "output_type": "execute_result",
          "data": {
            "text/plain": [
              "-0.008722922118422932"
            ]
          },
          "metadata": {},
          "execution_count": 12
        }
      ]
    },
    {
      "cell_type": "code",
      "source": [
        "Learning_rate = 0.9"
      ],
      "metadata": {
        "id": "YTsUuVRIdM1k"
      },
      "execution_count": 15,
      "outputs": []
    },
    {
      "cell_type": "code",
      "source": [
        "W_14_n = W_14 + (Learning_rate * Error_Bias_4) * (1)\n",
        "W_14_n"
      ],
      "metadata": {
        "colab": {
          "base_uri": "https://localhost:8080/"
        },
        "id": "Axhxu9EueHjl",
        "outputId": "7316c248-8329-4337-b410-3a5851b6ed59"
      },
      "execution_count": 20,
      "outputs": [
        {
          "output_type": "execute_result",
          "data": {
            "text/plain": [
              "0.19214937009341937"
            ]
          },
          "metadata": {},
          "execution_count": 20
        }
      ]
    },
    {
      "cell_type": "code",
      "source": [
        "W_24_n = W_24 + (Learning_rate * Error_Bias_4) * (0)\n",
        "W_24_n"
      ],
      "metadata": {
        "colab": {
          "base_uri": "https://localhost:8080/"
        },
        "id": "qWJVZkhZeQlc",
        "outputId": "e3d62cb3-c1ab-4019-eed4-7c1c7fb6c6de"
      },
      "execution_count": 22,
      "outputs": [
        {
          "output_type": "execute_result",
          "data": {
            "text/plain": [
              "0.4"
            ]
          },
          "metadata": {},
          "execution_count": 22
        }
      ]
    },
    {
      "cell_type": "code",
      "source": [
        "W_34_n = W_34 + (Learning_rate * Error_Bias_4) * (1)\n",
        "W_34_n"
      ],
      "metadata": {
        "colab": {
          "base_uri": "https://localhost:8080/"
        },
        "id": "2FOmC0EPepgd",
        "outputId": "f0b60459-6c47-4e97-ef0e-4957025d0e3e"
      },
      "execution_count": 23,
      "outputs": [
        {
          "output_type": "execute_result",
          "data": {
            "text/plain": [
              "-0.5078506299065806"
            ]
          },
          "metadata": {},
          "execution_count": 23
        }
      ]
    },
    {
      "cell_type": "code",
      "source": [
        "W_15_n = W_15 + (Learning_rate * Error_Bias_5) * (1)\n",
        "W_15_n"
      ],
      "metadata": {
        "colab": {
          "base_uri": "https://localhost:8080/"
        },
        "id": "8xlu_iwGewkl",
        "outputId": "417f3ab0-0060-48fa-db09-8224df45b401"
      },
      "execution_count": 27,
      "outputs": [
        {
          "output_type": "execute_result",
          "data": {
            "text/plain": [
              "-0.30588787655775207"
            ]
          },
          "metadata": {},
          "execution_count": 27
        }
      ]
    },
    {
      "cell_type": "code",
      "source": [
        "W_25_n = W_25 + (Learning_rate * Error_Bias_5) * (0)\n",
        "W_25_n"
      ],
      "metadata": {
        "colab": {
          "base_uri": "https://localhost:8080/"
        },
        "id": "0DVjT7EWe18U",
        "outputId": "afdffda7-d06c-4bc9-eed7-381287a73c2c"
      },
      "execution_count": 28,
      "outputs": [
        {
          "output_type": "execute_result",
          "data": {
            "text/plain": [
              "0.1"
            ]
          },
          "metadata": {},
          "execution_count": 28
        }
      ]
    },
    {
      "cell_type": "code",
      "source": [
        "W_35_n = W_35 + (Learning_rate * Error_Bias_5) * (1)\n",
        "W_35_n"
      ],
      "metadata": {
        "colab": {
          "base_uri": "https://localhost:8080/"
        },
        "id": "18ZgcUgpfF3l",
        "outputId": "38a93f11-c7d4-472a-a7d1-04f0e94c10a0"
      },
      "execution_count": 29,
      "outputs": [
        {
          "output_type": "execute_result",
          "data": {
            "text/plain": [
              "0.19411212344224793"
            ]
          },
          "metadata": {},
          "execution_count": 29
        }
      ]
    },
    {
      "cell_type": "code",
      "source": [
        "W_46_n = W_46 + (Learning_rate * Error_Bias_6) * (Bias_4_AF)\n",
        "W_46_n"
      ],
      "metadata": {
        "colab": {
          "base_uri": "https://localhost:8080/"
        },
        "id": "VEM35LVndEiW",
        "outputId": "21c7c154-676a-4177-f93a-6f4628b6dfcd"
      },
      "execution_count": 19,
      "outputs": [
        {
          "output_type": "execute_result",
          "data": {
            "text/plain": [
              "-0.26082884634154524"
            ]
          },
          "metadata": {},
          "execution_count": 19
        }
      ]
    },
    {
      "cell_type": "code",
      "source": [
        "W_56_n = W_56 + (Learning_rate * Error_Bias_6) * (Bias_5_AF)\n",
        "W_56_n"
      ],
      "metadata": {
        "colab": {
          "base_uri": "https://localhost:8080/"
        },
        "id": "MR1nmxTbfMj-",
        "outputId": "36974565-3ec7-413d-f17e-c3d268aa7ca5"
      },
      "execution_count": 30,
      "outputs": [
        {
          "output_type": "execute_result",
          "data": {
            "text/plain": [
              "-0.13802506750700472"
            ]
          },
          "metadata": {},
          "execution_count": 30
        }
      ]
    },
    {
      "cell_type": "code",
      "source": [
        "theta_4_n = theta_4 + (Learning_rate * Error_Bias_4)\n",
        "theta_4_n"
      ],
      "metadata": {
        "colab": {
          "base_uri": "https://localhost:8080/"
        },
        "id": "wfKyBQKNfXn8",
        "outputId": "ad5274bd-25c9-4fac-ba9c-5afffe9792ea"
      },
      "execution_count": 33,
      "outputs": [
        {
          "output_type": "execute_result",
          "data": {
            "text/plain": [
              "-0.40785062990658066"
            ]
          },
          "metadata": {},
          "execution_count": 33
        }
      ]
    },
    {
      "cell_type": "code",
      "source": [
        "theta_5_n = theta_5 + (Learning_rate * Error_Bias_5)\n",
        "theta_5_n"
      ],
      "metadata": {
        "colab": {
          "base_uri": "https://localhost:8080/"
        },
        "id": "NAyR5HZNfrHO",
        "outputId": "1ebd249d-5096-42c7-cc15-36dc3db54dff"
      },
      "execution_count": 34,
      "outputs": [
        {
          "output_type": "execute_result",
          "data": {
            "text/plain": [
              "0.19411212344224793"
            ]
          },
          "metadata": {},
          "execution_count": 34
        }
      ]
    },
    {
      "cell_type": "code",
      "source": [
        "theta_6_n = theta_6 + (Learning_rate * Error_Bias_6)\n",
        "theta_6_n"
      ],
      "metadata": {
        "colab": {
          "base_uri": "https://localhost:8080/"
        },
        "id": "dDBLdB3EfrkF",
        "outputId": "34054251-8d65-424c-d0bb-134e82b60aa8"
      },
      "execution_count": 35,
      "outputs": [
        {
          "output_type": "execute_result",
          "data": {
            "text/plain": [
              "0.21805217039291008"
            ]
          },
          "metadata": {},
          "execution_count": 35
        }
      ]
    }
  ]
}